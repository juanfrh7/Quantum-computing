{
 "cells": [
  {
   "cell_type": "markdown",
   "metadata": {},
   "source": [
    "# Learning Exercise I-A\n",
    "The full adder takes two binary numbers plus an overflow bit, which we will call X, as its input.\n",
    "Create a full adder with input data:\n",
    "\n",
    "$A=1$, $B=0$, $X=1$\n",
    ". \n",
    "\n",
    "The truth table for the full adder is given below.\n",
    "\n",
    "|A(input)|B(input)|X(carry input)|S(sum)|C(carry out)|\n",
    "|--|--|--|--|--|\n",
    "|0|0|0|0|0|\n",
    "|0|0|1|1|0|\n",
    "|0|1|0|1|0|\n",
    "|0|1|1|0|1|\n",
    "|1|0|0|1|0|\n",
    "|1|0|1|0|1|\n",
    "|1|1|0|0|1|\n",
    "|1|1|1|1|1|\n",
    "\n",
    "Call your quantum register 'q' and classical register 'c'. Assign inputs A, B and X to q[0], q[1] and q[2] respectively, the sum output S to c[0] and carry output C to c[1]."
   ]
  },
  {
   "cell_type": "code",
   "execution_count": 7,
   "metadata": {},
   "outputs": [
    {
     "name": "stdout",
     "output_type": "stream",
     "text": [
      "{'10': 1000}\n"
     ]
    },
    {
     "data": {
      "image/png": "[encoded data removed]",
      "text/plain": [
       "<Figure size 460.923x325.08 with 1 Axes>"
      ]
     },
     "execution_count": 7,
     "metadata": {},
     "output_type": "execute_result"
    }
   ],
   "source": [
    "from qiskit import QuantumRegister, ClassicalRegister, QuantumCircuit\n",
    "from qiskit import IBMQ, Aer, execute\n",
    "\n",
    "#define the registers and quantum circuit \n",
    "q = QuantumRegister(4)\n",
    "c = ClassicalRegister(2)\n",
    "qc = QuantumCircuit(q,c)\n",
    "\n",
    "A = q[0]\n",
    "B = q[1]\n",
    "X = q[2]\n",
    "S = c[0]\n",
    "C = c[1]\n",
    "\n",
    "qc.x(q[0])\n",
    "qc.x(q[2])\n",
    "qc.ccx(q[0],q[1],q[3])\n",
    "qc.cx(q[0],q[1])\n",
    "qc.ccx(q[1],q[2],q[3])\n",
    "qc.cx(q[1],q[2])\n",
    "qc.cx(q[0],q[1])\n",
    "\n",
    "#sum\n",
    "qc.measure(q[2], c[0])\n",
    "#carryout\n",
    "qc.measure(q[3], c[1])\n",
    "\n",
    "# execute the circuit by qasm_simulator\n",
    "backend = Aer.get_backend('qasm_simulator')\n",
    "job = execute(qc, backend, shots=1000)\n",
    "result = job.result()\n",
    "count =result.get_counts()\n",
    "print(count)\n",
    "qc.draw(output='mpl')"
   ]
  },
  {
   "cell_type": "code",
   "execution_count": 8,
   "metadata": {},
   "outputs": [
    {
     "name": "stdout",
     "output_type": "stream",
     "text": [
      "Grading your answer. Please wait...\n",
      "\n",
      "Congratulations 🎉! Your answer is correct.\n",
      "Your score is 170.\n",
      "Feel free to submit your answer.\n"
     ]
    }
   ],
   "source": [
    "# Check your answer using following code\n",
    "from qc_grader import grade_ex1a\n",
    "grade_ex1a(qc)"
   ]
  },
  {
   "cell_type": "code",
   "execution_count": null,
   "metadata": {},
   "outputs": [
    {
     "name": "stdout",
     "output_type": "stream",
     "text": [
      "Submitting your answer. Please wait...\n"
     ]
    }
   ],
   "source": [
    "# Submit your answer. You can re-submit at any time.\n",
    "from qc_grader import submit_ex1a\n",
    "submit_ex1a(qc)"
   ]
  },
  {
   "cell_type": "code",
   "execution_count": null,
   "metadata": {},
   "outputs": [],
   "source": []
  }
 ],
 "metadata": {
  "kernelspec": {
   "display_name": "Python 3",
   "language": "python",
   "name": "python3"
  },
  "language_info": {
   "codemirror_mode": {
    "name": "ipython",
    "version": 3
   },
   "file_extension": ".py",
   "mimetype": "text/x-python",
   "name": "python",
   "nbconvert_exporter": "python",
   "pygments_lexer": "ipython3",
   "version": "3.7.4"
  }
 },
 "nbformat": 4,
 "nbformat_minor": 2
}
